{
 "cells": [
  {
   "cell_type": "code",
   "execution_count": 1,
   "id": "72db7b0d-b0d2-425b-84e6-a0819cfb87e1",
   "metadata": {},
   "outputs": [],
   "source": [
    "import pandas as pd\n",
    "\n",
    "highGrowthStockDf = pd.read_csv('highGrowthStockExample.csv')\n",
    "trainingStockDf = pd.read_csv('trainingStock.csv')"
   ]
  },
  {
   "cell_type": "code",
   "execution_count": 2,
   "id": "d310665e-27fb-4013-9527-5a058d2b8696",
   "metadata": {},
   "outputs": [
    {
     "data": {
      "text/html": [
       "<div>\n",
       "<style scoped>\n",
       "    .dataframe tbody tr th:only-of-type {\n",
       "        vertical-align: middle;\n",
       "    }\n",
       "\n",
       "    .dataframe tbody tr th {\n",
       "        vertical-align: top;\n",
       "    }\n",
       "\n",
       "    .dataframe thead th {\n",
       "        text-align: right;\n",
       "    }\n",
       "</style>\n",
       "<table border=\"1\" class=\"dataframe\">\n",
       "  <thead>\n",
       "    <tr style=\"text-align: right;\">\n",
       "      <th></th>\n",
       "      <th>StockName</th>\n",
       "      <th>TickerSymbol</th>\n",
       "    </tr>\n",
       "  </thead>\n",
       "  <tbody>\n",
       "    <tr>\n",
       "      <th>0</th>\n",
       "      <td>Teledoc Health</td>\n",
       "      <td>TDOC</td>\n",
       "    </tr>\n",
       "    <tr>\n",
       "      <th>1</th>\n",
       "      <td>Snap Inc</td>\n",
       "      <td>SNAP</td>\n",
       "    </tr>\n",
       "    <tr>\n",
       "      <th>2</th>\n",
       "      <td>Live Oak Bancshares</td>\n",
       "      <td>LOB</td>\n",
       "    </tr>\n",
       "    <tr>\n",
       "      <th>3</th>\n",
       "      <td>Appian Corp</td>\n",
       "      <td>APPN</td>\n",
       "    </tr>\n",
       "    <tr>\n",
       "      <th>4</th>\n",
       "      <td>Kinsale Capital Group</td>\n",
       "      <td>KNSL</td>\n",
       "    </tr>\n",
       "  </tbody>\n",
       "</table>\n",
       "</div>"
      ],
      "text/plain": [
       "               StockName TickerSymbol\n",
       "0         Teledoc Health         TDOC\n",
       "1               Snap Inc         SNAP\n",
       "2    Live Oak Bancshares          LOB\n",
       "3            Appian Corp         APPN\n",
       "4  Kinsale Capital Group         KNSL"
      ]
     },
     "execution_count": 2,
     "metadata": {},
     "output_type": "execute_result"
    }
   ],
   "source": [
    "highGrowthStockDf.head()"
   ]
  },
  {
   "cell_type": "code",
   "execution_count": 3,
   "id": "19774d42-1f8f-4ae6-9550-eebb8d7d7d8e",
   "metadata": {},
   "outputs": [
    {
     "name": "stdout",
     "output_type": "stream",
     "text": [
      "<class 'pandas.core.frame.DataFrame'>\n",
      "RangeIndex: 7 entries, 0 to 6\n",
      "Data columns (total 2 columns):\n",
      " #   Column        Non-Null Count  Dtype \n",
      "---  ------        --------------  ----- \n",
      " 0   StockName     7 non-null      object\n",
      " 1   TickerSymbol  7 non-null      object\n",
      "dtypes: object(2)\n",
      "memory usage: 240.0+ bytes\n"
     ]
    }
   ],
   "source": [
    "highGrowthStockDf.info()"
   ]
  },
  {
   "cell_type": "code",
   "execution_count": 4,
   "id": "92bb18fa-84c8-4ae5-8b8f-096366c473b6",
   "metadata": {},
   "outputs": [
    {
     "data": {
      "text/plain": [
       "0           Teledoc Health\n",
       "1                 Snap Inc\n",
       "2      Live Oak Bancshares\n",
       "3              Appian Corp\n",
       "4    Kinsale Capital Group\n",
       "5          Western Digital\n",
       "6        Boston Omaha Corp\n",
       "Name: StockName, dtype: object"
      ]
     },
     "execution_count": 4,
     "metadata": {},
     "output_type": "execute_result"
    }
   ],
   "source": [
    "highGrowthStockDf['StockName']"
   ]
  },
  {
   "cell_type": "code",
   "execution_count": 5,
   "id": "315be0d7-89ad-4675-8b63-f915aeba7dc2",
   "metadata": {},
   "outputs": [
    {
     "data": {
      "text/plain": [
       "0    TDOC\n",
       "1    SNAP\n",
       "2     LOB\n",
       "3    APPN\n",
       "4    KNSL\n",
       "5      WD\n",
       "6    BOMN\n",
       "Name: TickerSymbol, dtype: object"
      ]
     },
     "execution_count": 5,
     "metadata": {},
     "output_type": "execute_result"
    }
   ],
   "source": [
    "highGrowthStockDf['TickerSymbol']"
   ]
  },
  {
   "cell_type": "code",
   "execution_count": 6,
   "id": "1a65b6dd-37df-408e-99c3-14eb267b5109",
   "metadata": {},
   "outputs": [
    {
     "data": {
      "text/plain": [
       "0      BTC\n",
       "1     CMPS\n",
       "2     CSTL\n",
       "3     CURI\n",
       "4     DCBO\n",
       "5     GSHD\n",
       "6       OM\n",
       "7     UPST\n",
       "8     CALT\n",
       "9     DAVA\n",
       "10    FLGT\n",
       "11    FTHM\n",
       "12    LMND\n",
       "13    PUBM\n",
       "14     SPT\n",
       "15    TTCF\n",
       "16    AVIR\n",
       "17    BIGC\n",
       "18    CELH\n",
       "19    DOCN\n",
       "20    FVRR\n",
       "21    INMD\n",
       "22    RETA\n",
       "23    SMLR\n",
       "24    YALA\n",
       "25    AMWL\n",
       "26    BTRS\n",
       "27    DMTK\n",
       "28    FROG\n",
       "29     KOD\n",
       "30    PGNY\n",
       "31    POSH\n",
       "32    SKLZ\n",
       "33     RWM\n",
       "34    VINP\n",
       "Name: TickerSymbol, dtype: object"
      ]
     },
     "execution_count": 6,
     "metadata": {},
     "output_type": "execute_result"
    }
   ],
   "source": [
    "trainingStockDf['TickerSymbol']"
   ]
  },
  {
   "cell_type": "code",
   "execution_count": null,
   "id": "b551a6f1-2330-4544-b8ad-6310b2c891de",
   "metadata": {},
   "outputs": [],
   "source": []
  }
 ],
 "metadata": {
  "kernelspec": {
   "display_name": "Python 3",
   "language": "python",
   "name": "python3"
  },
  "language_info": {
   "codemirror_mode": {
    "name": "ipython",
    "version": 3
   },
   "file_extension": ".py",
   "mimetype": "text/x-python",
   "name": "python",
   "nbconvert_exporter": "python",
   "pygments_lexer": "ipython3",
   "version": "3.6.8"
  }
 },
 "nbformat": 4,
 "nbformat_minor": 5
}
