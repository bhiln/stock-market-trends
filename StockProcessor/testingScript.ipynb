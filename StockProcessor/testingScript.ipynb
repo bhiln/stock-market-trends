{
 "cells": [
  {
   "cell_type": "code",
   "execution_count": 1,
   "id": "72db7b0d-b0d2-425b-84e6-a0819cfb87e1",
   "metadata": {},
   "outputs": [
    {
     "name": "stdout",
     "output_type": "stream",
     "text": [
      "0    TDOC\n",
      "1    SNAP\n",
      "2     LOB\n",
      "3    APPN\n",
      "4    KNSL\n",
      "5      WD\n",
      "6    BOMN\n",
      "Name: TickerSymbol, dtype: object\n",
      "                Close\n",
      "Date                 \n",
      "2019-05-30  58.099998\n",
      "2019-05-31  58.119999\n",
      "2019-06-03  53.980000\n",
      "2019-06-04  55.750000\n",
      "2019-06-05  55.139999\n"
     ]
    }
   ],
   "source": [
    "import pandas as pd\n",
    "import numpy as np\n",
    "import matplotlib.pyplot as plt\n",
    "import pandas_datareader as pdr\n",
    "\n",
    "highGrowthStockDf = pd.read_csv('highGrowthStockExample.csv')\n",
    "\n",
    "print(highGrowthStockDf['TickerSymbol'])\n",
    "\n",
    "stock_name = highGrowthStockDf.loc[0,'TickerSymbol']\n",
    "# print(stock_name)\n",
    "\n",
    "# Download data from Yahoo Finance API\n",
    "stock = pdr.get_data_yahoo(stock_name,'2019-05-31')\n",
    "\n",
    "# Dropping Unused Columns\n",
    "stock.drop('Adj Close', axis=1, inplace=True)\n",
    "stock.drop('High', axis=1, inplace=True)\n",
    "stock.drop('Low', axis=1, inplace=True)\n",
    "stock.drop('Open', axis=1, inplace=True)\n",
    "stock.drop('Volume', axis=1, inplace=True)\n",
    "print(stock.head())\n",
    "\n",
    "# Get the Moving Averages for 3-day, 9-day and 21-day\n",
    "stock['3-day'] = stock['Close'].rolling(3).mean()\n",
    "stock['9-day'] = stock['Close'].rolling(9).mean()\n",
    "stock['21-day'] = stock['Close'].rolling(21).mean()\n",
    "\n",
    "# Get the daily changes\n",
    "stock['Change'] = np.log(stock.Close / stock.Close.shift())"
   ]
  },
  {
   "cell_type": "code",
   "execution_count": 3,
   "id": "d310665e-27fb-4013-9527-5a058d2b8696",
   "metadata": {},
   "outputs": [],
   "source": [
    "# 3-day vs 9-day MA.\n",
    "# Register 1 when 3-day MA is greater than 9-day MA and -1 when 3-day is less than 9-day\n",
    "stock['Position_3v9'] = np.where(stock['3-day'] > stock['9-day'], 1, 0)\n",
    "stock['Position_3v9'] = np.where(stock['3-day'] < stock['9-day'], -1, stock['Position_3v9'])\n",
    "\n",
    "# 9-day vs 21-day MA.\n",
    "# Register 1 when 9-day MA is greater than 21-day MA and -1 when 9-day is less than 21-day\n",
    "stock['Position_9v21'] = np.where(stock['9-day'] > stock['21-day'], 1,0)\n",
    "stock['Position_9v21'] = np.where(stock['9-day'] < stock['21-day'],-1,stock['Position_9v21'])\n",
    "\n",
    "# Calculate the volatility of the stock\n",
    "stock['Volatility_3d'] = stock.Change.rolling(3).std().shift()\n",
    "\n",
    "stock['System_3v9'] = np.where(stock['Position_3v9'] > 0, stock['Position_3v9'] * stock['Change'], 0)\n",
    "# stock[['Change', 'System_3v9']].cumsum().plot()"
   ]
  },
  {
   "cell_type": "code",
   "execution_count": 4,
   "id": "19774d42-1f8f-4ae6-9550-eebb8d7d7d8e",
   "metadata": {},
   "outputs": [
    {
     "name": "stdout",
     "output_type": "stream",
     "text": [
      "Date\n",
      "2019-11-22    0.429131\n",
      "2019-11-25    0.459114\n",
      "2019-11-26    0.470248\n",
      "2019-11-27    0.481725\n",
      "2019-11-29    0.456490\n",
      "Name: System_3v9, dtype: float64\n"
     ]
    }
   ],
   "source": [
    "print(stock['System_3v9']['20190531':'20191130'].cumsum().tail())"
   ]
  },
  {
   "cell_type": "code",
   "execution_count": 7,
   "id": "92bb18fa-84c8-4ae5-8b8f-096366c473b6",
   "metadata": {},
   "outputs": [
    {
     "data": {
      "text/plain": [
       "<AxesSubplot:xlabel='Date'>"
      ]
     },
     "execution_count": 7,
     "metadata": {},
     "output_type": "execute_result"
    },
    {
     "data": {
      "image/png": "[encoded data removed]",
      "text/plain": [
       "<Figure size 432x288 with 1 Axes>"
      ]
     },
     "metadata": {
      "needs_background": "light"
     },
     "output_type": "display_data"
    }
   ],
   "source": [
    "stock[['Change','System_3v9']]['20190531':'20191130'].cumsum().plot()"
   ]
  },
  {
   "cell_type": "code",
   "execution_count": 8,
   "id": "315be0d7-89ad-4675-8b63-f915aeba7dc2",
   "metadata": {},
   "outputs": [
    {
     "data": {
      "text/plain": [
       "pandas.core.series.Series"
      ]
     },
     "execution_count": 8,
     "metadata": {},
     "output_type": "execute_result"
    }
   ],
   "source": [
    "type(stock['System_3v9']['20190531':'20191130'].cumsum().tail())"
   ]
  },
  {
   "cell_type": "code",
   "execution_count": null,
   "id": "1a65b6dd-37df-408e-99c3-14eb267b5109",
   "metadata": {},
   "outputs": [],
   "source": []
  },
  {
   "cell_type": "code",
   "execution_count": 10,
   "id": "b551a6f1-2330-4544-b8ad-6310b2c891de",
   "metadata": {},
   "outputs": [
    {
     "data": {
      "text/plain": [
       "7"
      ]
     },
     "execution_count": 10,
     "metadata": {},
     "output_type": "execute_result"
    }
   ],
   "source": [
    "len(highGrowthStockDf.index)"
   ]
  },
  {
   "cell_type": "code",
   "execution_count": null,
   "id": "dc3722a5-e992-4ca9-b793-c9b755062c3e",
   "metadata": {},
   "outputs": [],
   "source": []
  }
 ],
 "metadata": {
  "kernelspec": {
   "display_name": "Python 3",
   "language": "python",
   "name": "python3"
  },
  "language_info": {
   "codemirror_mode": {
    "name": "ipython",
    "version": 3
   },
   "file_extension": ".py",
   "mimetype": "text/x-python",
   "name": "python",
   "nbconvert_exporter": "python",
   "pygments_lexer": "ipython3",
   "version": "3.9.1"
  }
 },
 "nbformat": 4,
 "nbformat_minor": 5
}
