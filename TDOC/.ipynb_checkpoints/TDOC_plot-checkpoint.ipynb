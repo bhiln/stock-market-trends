{
 "cells": [
  {
   "cell_type": "code",
   "execution_count": null,
   "id": "addbb6e0-34d8-4f46-83bb-e57d22d0afad",
   "metadata": {},
   "outputs": [],
   "source": [
    "import numpy as np\n",
    "import pandas as pd\n",
    "import matplotlib.pyplot as plt\n",
    "import pandas_datareader as pdr\n",
    "%matplotlib inline\n",
    "\n",
    "# Teledoc\n",
    "tdoc = pdr.get_data_yahoo('TDOC','2019-05-31')\n",
    "tdoc.drop('Adj Close', axis=1, inplace=True)\n",
    "\n",
    "# Get the moving averages\n",
    "tdoc['3-day'] = tdoc['Close'].rolling(3).mean()\n",
    "tdoc['9-day'] = tdoc['Close'].rolling(9).mean()\n",
    "tdoc['21-day'] = tdoc['Close'].rolling(21).mean()\n",
    "tdoc['Change'] = np.log(tdoc.Close / tdoc.Close.shift())\n",
    "tdoc.tail()"
   ]
  }
 ],
 "metadata": {
  "kernelspec": {
   "display_name": "Python 3",
   "language": "python",
   "name": "python3"
  },
  "language_info": {
   "codemirror_mode": {
    "name": "ipython",
    "version": 3
   },
   "file_extension": ".py",
   "mimetype": "text/x-python",
   "name": "python",
   "nbconvert_exporter": "python",
   "pygments_lexer": "ipython3",
   "version": "3.6.8"
  }
 },
 "nbformat": 4,
 "nbformat_minor": 5
}
