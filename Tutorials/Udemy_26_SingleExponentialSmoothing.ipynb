{
 "cells": [
  {
   "cell_type": "code",
   "execution_count": 11,
   "id": "81dd3c4b-b65e-4c1f-bcce-04b22d306e1d",
   "metadata": {},
   "outputs": [],
   "source": [
    "import numpy as np\n",
    "import pandas as pd\n",
    "import pandas_datareader as pdr\n",
    "from statsmodels.tsa.holtwinters import SimpleExpSmoothing as ses\n",
    "\n",
    "import matplotlib.pyplot as plt\n",
    "%matplotlib inline"
   ]
  },
  {
   "cell_type": "code",
   "execution_count": 12,
   "id": "5d57e22a-b7da-4504-9cdc-6c268ba61b6d",
   "metadata": {},
   "outputs": [
    {
     "data": {
      "text/html": [
       "<div>\n",
       "<style scoped>\n",
       "    .dataframe tbody tr th:only-of-type {\n",
       "        vertical-align: middle;\n",
       "    }\n",
       "\n",
       "    .dataframe tbody tr th {\n",
       "        vertical-align: top;\n",
       "    }\n",
       "\n",
       "    .dataframe thead th {\n",
       "        text-align: right;\n",
       "    }\n",
       "</style>\n",
       "<table border=\"1\" class=\"dataframe\">\n",
       "  <thead>\n",
       "    <tr style=\"text-align: right;\">\n",
       "      <th></th>\n",
       "      <th>High</th>\n",
       "      <th>Low</th>\n",
       "      <th>Open</th>\n",
       "      <th>Close</th>\n",
       "      <th>Volume</th>\n",
       "    </tr>\n",
       "    <tr>\n",
       "      <th>Date</th>\n",
       "      <th></th>\n",
       "      <th></th>\n",
       "      <th></th>\n",
       "      <th></th>\n",
       "      <th></th>\n",
       "    </tr>\n",
       "  </thead>\n",
       "  <tbody>\n",
       "    <tr>\n",
       "      <th>2021-05-09</th>\n",
       "      <td>172.550003</td>\n",
       "      <td>171.000000</td>\n",
       "      <td>171.529999</td>\n",
       "      <td>171.589996</td>\n",
       "      <td>14747700</td>\n",
       "    </tr>\n",
       "    <tr>\n",
       "      <th>2021-05-16</th>\n",
       "      <td>172.699997</td>\n",
       "      <td>171.820007</td>\n",
       "      <td>172.050003</td>\n",
       "      <td>172.690002</td>\n",
       "      <td>9683000</td>\n",
       "    </tr>\n",
       "    <tr>\n",
       "      <th>2021-05-23</th>\n",
       "      <td>176.860001</td>\n",
       "      <td>175.149994</td>\n",
       "      <td>176.580002</td>\n",
       "      <td>176.039993</td>\n",
       "      <td>7677200</td>\n",
       "    </tr>\n",
       "    <tr>\n",
       "      <th>2021-05-30</th>\n",
       "      <td>178.429993</td>\n",
       "      <td>177.240005</td>\n",
       "      <td>177.460007</td>\n",
       "      <td>178.380005</td>\n",
       "      <td>9967000</td>\n",
       "    </tr>\n",
       "    <tr>\n",
       "      <th>2021-06-06</th>\n",
       "      <td>178.779999</td>\n",
       "      <td>177.970001</td>\n",
       "      <td>178.339996</td>\n",
       "      <td>178.770004</td>\n",
       "      <td>6560228</td>\n",
       "    </tr>\n",
       "  </tbody>\n",
       "</table>\n",
       "</div>"
      ],
      "text/plain": [
       "                  High         Low        Open       Close    Volume\n",
       "Date                                                                \n",
       "2021-05-09  172.550003  171.000000  171.529999  171.589996  14747700\n",
       "2021-05-16  172.699997  171.820007  172.050003  172.690002   9683000\n",
       "2021-05-23  176.860001  175.149994  176.580002  176.039993   7677200\n",
       "2021-05-30  178.429993  177.240005  177.460007  178.380005   9967000\n",
       "2021-06-06  178.779999  177.970001  178.339996  178.770004   6560228"
      ]
     },
     "execution_count": 12,
     "metadata": {},
     "output_type": "execute_result"
    }
   ],
   "source": [
    "gld = pdr.get_data_yahoo('GLD', start='2020-05-31')\n",
    "gld.drop('Adj Close', axis=1, inplace=True)\n",
    "gld = gld.resample('W').last()\n",
    "gld.tail()"
   ]
  },
  {
   "cell_type": "code",
   "execution_count": 13,
   "id": "f558167e-3dea-4e34-a42c-3aab13648132",
   "metadata": {},
   "outputs": [
    {
     "name": "stderr",
     "output_type": "stream",
     "text": [
      "c:\\users\\sasha\\appdata\\local\\programs\\python\\python36\\lib\\site-packages\\statsmodels\\tsa\\holtwinters\\model.py:429: FutureWarning: After 0.13 initialization must be handled at model creation\n",
      "  FutureWarning,\n"
     ]
    },
    {
     "data": {
      "text/plain": [
       "2021-06-13    178.767058\n",
       "Freq: W-SUN, dtype: float64"
      ]
     },
     "execution_count": 13,
     "metadata": {},
     "output_type": "execute_result"
    }
   ],
   "source": [
    "model = ses(gld['Close'])\n",
    "model_fit = model.fit()\n",
    "model_fit.predict()"
   ]
  },
  {
   "cell_type": "code",
   "execution_count": 14,
   "id": "be1dc9d6-334e-41cc-9d7b-e7b9d3c22bad",
   "metadata": {},
   "outputs": [
    {
     "data": {
      "text/plain": [
       "Date\n",
       "2020-06-07    158.043432\n",
       "2020-06-14    158.010237\n",
       "2020-06-21    162.586632\n",
       "2020-06-28    164.019553\n",
       "2020-07-05    166.521752\n",
       "Freq: W-SUN, dtype: float64"
      ]
     },
     "execution_count": 14,
     "metadata": {},
     "output_type": "execute_result"
    }
   ],
   "source": [
    "y_hat = model_fit.fittedvalues\n",
    "y_hat.head()"
   ]
  },
  {
   "cell_type": "code",
   "execution_count": 15,
   "id": "204f6229-814b-45d5-b7de-673ce22a5457",
   "metadata": {},
   "outputs": [
    {
     "data": {
      "text/html": [
       "<div>\n",
       "<style scoped>\n",
       "    .dataframe tbody tr th:only-of-type {\n",
       "        vertical-align: middle;\n",
       "    }\n",
       "\n",
       "    .dataframe tbody tr th {\n",
       "        vertical-align: top;\n",
       "    }\n",
       "\n",
       "    .dataframe thead th {\n",
       "        text-align: right;\n",
       "    }\n",
       "</style>\n",
       "<table border=\"1\" class=\"dataframe\">\n",
       "  <thead>\n",
       "    <tr style=\"text-align: right;\">\n",
       "      <th></th>\n",
       "      <th>High</th>\n",
       "      <th>Low</th>\n",
       "      <th>Open</th>\n",
       "      <th>Close</th>\n",
       "      <th>Volume</th>\n",
       "    </tr>\n",
       "    <tr>\n",
       "      <th>Date</th>\n",
       "      <th></th>\n",
       "      <th></th>\n",
       "      <th></th>\n",
       "      <th></th>\n",
       "      <th></th>\n",
       "    </tr>\n",
       "  </thead>\n",
       "  <tbody>\n",
       "    <tr>\n",
       "      <th>2020-06-07</th>\n",
       "      <td>158.720001</td>\n",
       "      <td>157.039993</td>\n",
       "      <td>158.720001</td>\n",
       "      <td>158.009995</td>\n",
       "      <td>16021200</td>\n",
       "    </tr>\n",
       "    <tr>\n",
       "      <th>2020-06-14</th>\n",
       "      <td>163.880005</td>\n",
       "      <td>162.559998</td>\n",
       "      <td>163.410004</td>\n",
       "      <td>162.619995</td>\n",
       "      <td>6895400</td>\n",
       "    </tr>\n",
       "    <tr>\n",
       "      <th>2020-06-21</th>\n",
       "      <td>164.089996</td>\n",
       "      <td>162.779999</td>\n",
       "      <td>162.869995</td>\n",
       "      <td>164.029999</td>\n",
       "      <td>12187400</td>\n",
       "    </tr>\n",
       "    <tr>\n",
       "      <th>2020-06-28</th>\n",
       "      <td>166.559998</td>\n",
       "      <td>164.220001</td>\n",
       "      <td>164.869995</td>\n",
       "      <td>166.539993</td>\n",
       "      <td>9753500</td>\n",
       "    </tr>\n",
       "    <tr>\n",
       "      <th>2020-07-05</th>\n",
       "      <td>167.240005</td>\n",
       "      <td>166.020004</td>\n",
       "      <td>166.199997</td>\n",
       "      <td>166.979996</td>\n",
       "      <td>8753500</td>\n",
       "    </tr>\n",
       "  </tbody>\n",
       "</table>\n",
       "</div>"
      ],
      "text/plain": [
       "                  High         Low        Open       Close    Volume\n",
       "Date                                                                \n",
       "2020-06-07  158.720001  157.039993  158.720001  158.009995  16021200\n",
       "2020-06-14  163.880005  162.559998  163.410004  162.619995   6895400\n",
       "2020-06-21  164.089996  162.779999  162.869995  164.029999  12187400\n",
       "2020-06-28  166.559998  164.220001  164.869995  166.539993   9753500\n",
       "2020-07-05  167.240005  166.020004  166.199997  166.979996   8753500"
      ]
     },
     "execution_count": 15,
     "metadata": {},
     "output_type": "execute_result"
    }
   ],
   "source": [
    "gld.head()"
   ]
  },
  {
   "cell_type": "code",
   "execution_count": 16,
   "id": "9a6c862b-ee96-4e90-b7b5-f8617a597d11",
   "metadata": {},
   "outputs": [
    {
     "data": {
      "text/plain": [
       "[<matplotlib.lines.Line2D at 0x1a280059dd8>]"
      ]
     },
     "execution_count": 16,
     "metadata": {},
     "output_type": "execute_result"
    },
    {
     "data": {
      "image/png": "[encoded data removed]",
      "text/plain": [
       "<Figure size 432x288 with 1 Axes>"
      ]
     },
     "metadata": {
      "needs_background": "light"
     },
     "output_type": "display_data"
    }
   ],
   "source": [
    "plt.plot(gld['Close'])\n",
    "plt.plot(y_hat)"
   ]
  },
  {
   "cell_type": "code",
   "execution_count": 17,
   "id": "9fab016c-41ac-4016-92cb-2b97e6a7513c",
   "metadata": {},
   "outputs": [
    {
     "data": {
      "text/plain": [
       "{'smoothing_level': 0.9927625647097573,\n",
       " 'smoothing_trend': nan,\n",
       " 'smoothing_seasonal': nan,\n",
       " 'damping_trend': nan,\n",
       " 'initial_level': 158.0434324221257,\n",
       " 'initial_trend': nan,\n",
       " 'initial_seasons': array([], dtype=float64),\n",
       " 'use_boxcox': False,\n",
       " 'lamda': None,\n",
       " 'remove_bias': False}"
      ]
     },
     "execution_count": 17,
     "metadata": {},
     "output_type": "execute_result"
    }
   ],
   "source": [
    "model_fit.params"
   ]
  },
  {
   "cell_type": "code",
   "execution_count": 18,
   "id": "456e500b-6429-4cd1-8e9a-8ebf5826bd51",
   "metadata": {},
   "outputs": [
    {
     "name": "stderr",
     "output_type": "stream",
     "text": [
      "c:\\users\\sasha\\appdata\\local\\programs\\python\\python36\\lib\\site-packages\\statsmodels\\tsa\\holtwinters\\model.py:429: FutureWarning: After 0.13 initialization must be handled at model creation\n",
      "  FutureWarning,\n"
     ]
    }
   ],
   "source": [
    "values = pd.DataFrame({'alpha':np.zeros(10), 'MSE':np.zeros(10)})\n",
    "alpha = 0.1\n",
    "for i in range(10):\n",
    "    model = ses(gld['Close'])\n",
    "    gld['Forecast'] = model.fit(alpha).fittedvalues\n",
    "    gld['MSE'] = (gld['Close']-gld['Forecast']) ** 2\n",
    "    mse = gld['MSE'].mean()\n",
    "    values['alpha'][i] = alpha\n",
    "    values['MSE'][i] = mse\n",
    "    alpha += 0.1"
   ]
  },
  {
   "cell_type": "code",
   "execution_count": 19,
   "id": "6a048a45-2621-4262-a7c6-b1909bde6c42",
   "metadata": {},
   "outputs": [
    {
     "data": {
      "text/html": [
       "<div>\n",
       "<style scoped>\n",
       "    .dataframe tbody tr th:only-of-type {\n",
       "        vertical-align: middle;\n",
       "    }\n",
       "\n",
       "    .dataframe tbody tr th {\n",
       "        vertical-align: top;\n",
       "    }\n",
       "\n",
       "    .dataframe thead th {\n",
       "        text-align: right;\n",
       "    }\n",
       "</style>\n",
       "<table border=\"1\" class=\"dataframe\">\n",
       "  <thead>\n",
       "    <tr style=\"text-align: right;\">\n",
       "      <th></th>\n",
       "      <th>alpha</th>\n",
       "      <th>MSE</th>\n",
       "    </tr>\n",
       "  </thead>\n",
       "  <tbody>\n",
       "    <tr>\n",
       "      <th>0</th>\n",
       "      <td>0.1</td>\n",
       "      <td>48.061995</td>\n",
       "    </tr>\n",
       "    <tr>\n",
       "      <th>1</th>\n",
       "      <td>0.2</td>\n",
       "      <td>35.480389</td>\n",
       "    </tr>\n",
       "    <tr>\n",
       "      <th>2</th>\n",
       "      <td>0.3</td>\n",
       "      <td>26.992326</td>\n",
       "    </tr>\n",
       "    <tr>\n",
       "      <th>3</th>\n",
       "      <td>0.4</td>\n",
       "      <td>21.728044</td>\n",
       "    </tr>\n",
       "    <tr>\n",
       "      <th>4</th>\n",
       "      <td>0.5</td>\n",
       "      <td>18.472510</td>\n",
       "    </tr>\n",
       "    <tr>\n",
       "      <th>5</th>\n",
       "      <td>0.6</td>\n",
       "      <td>16.421804</td>\n",
       "    </tr>\n",
       "    <tr>\n",
       "      <th>6</th>\n",
       "      <td>0.7</td>\n",
       "      <td>15.116537</td>\n",
       "    </tr>\n",
       "    <tr>\n",
       "      <th>7</th>\n",
       "      <td>0.8</td>\n",
       "      <td>14.307475</td>\n",
       "    </tr>\n",
       "    <tr>\n",
       "      <th>8</th>\n",
       "      <td>0.9</td>\n",
       "      <td>13.866402</td>\n",
       "    </tr>\n",
       "    <tr>\n",
       "      <th>9</th>\n",
       "      <td>1.0</td>\n",
       "      <td>13.737646</td>\n",
       "    </tr>\n",
       "  </tbody>\n",
       "</table>\n",
       "</div>"
      ],
      "text/plain": [
       "   alpha        MSE\n",
       "0    0.1  48.061995\n",
       "1    0.2  35.480389\n",
       "2    0.3  26.992326\n",
       "3    0.4  21.728044\n",
       "4    0.5  18.472510\n",
       "5    0.6  16.421804\n",
       "6    0.7  15.116537\n",
       "7    0.8  14.307475\n",
       "8    0.9  13.866402\n",
       "9    1.0  13.737646"
      ]
     },
     "execution_count": 19,
     "metadata": {},
     "output_type": "execute_result"
    }
   ],
   "source": [
    "values"
   ]
  },
  {
   "cell_type": "code",
   "execution_count": null,
   "id": "d5b101c2-cba3-4c04-9c12-4373012e6114",
   "metadata": {},
   "outputs": [],
   "source": []
  }
 ],
 "metadata": {
  "kernelspec": {
   "display_name": "Python 3",
   "language": "python",
   "name": "python3"
  },
  "language_info": {
   "codemirror_mode": {
    "name": "ipython",
    "version": 3
   },
   "file_extension": ".py",
   "mimetype": "text/x-python",
   "name": "python",
   "nbconvert_exporter": "python",
   "pygments_lexer": "ipython3",
   "version": "3.6.8"
  }
 },
 "nbformat": 4,
 "nbformat_minor": 5
}
