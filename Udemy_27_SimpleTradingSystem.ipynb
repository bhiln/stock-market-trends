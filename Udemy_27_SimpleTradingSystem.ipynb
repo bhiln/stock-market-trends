{
 "cells": [
  {
   "cell_type": "markdown",
   "id": "ecfbc9f9-6c62-44e7-8cc1-160d04e2b8ed",
   "metadata": {},
   "source": [
    "## Trading System with Moving Average Signals"
   ]
  },
  {
   "cell_type": "code",
   "execution_count": 1,
   "id": "78cfad72-53cb-4448-bbc8-9e4bbb125e14",
   "metadata": {},
   "outputs": [],
   "source": [
    "import numpy as np\n",
    "import pandas as pd\n",
    "import matplotlib.pyplot as plt\n",
    "import pandas_datareader as pdr\n",
    "%matplotlib inline"
   ]
  },
  {
   "cell_type": "markdown",
   "id": "f4662b56-bd5d-485d-82d5-24d04c804087",
   "metadata": {},
   "source": [
    "Use Gold as an example."
   ]
  },
  {
   "cell_type": "code",
   "execution_count": 2,
   "id": "e62a0df9-f6fb-4265-9327-f818f3407ec4",
   "metadata": {},
   "outputs": [
    {
     "data": {
      "text/html": [
       "<div>\n",
       "<style scoped>\n",
       "    .dataframe tbody tr th:only-of-type {\n",
       "        vertical-align: middle;\n",
       "    }\n",
       "\n",
       "    .dataframe tbody tr th {\n",
       "        vertical-align: top;\n",
       "    }\n",
       "\n",
       "    .dataframe thead th {\n",
       "        text-align: right;\n",
       "    }\n",
       "</style>\n",
       "<table border=\"1\" class=\"dataframe\">\n",
       "  <thead>\n",
       "    <tr style=\"text-align: right;\">\n",
       "      <th></th>\n",
       "      <th>High</th>\n",
       "      <th>Low</th>\n",
       "      <th>Open</th>\n",
       "      <th>Close</th>\n",
       "      <th>Volume</th>\n",
       "    </tr>\n",
       "    <tr>\n",
       "      <th>Date</th>\n",
       "      <th></th>\n",
       "      <th></th>\n",
       "      <th></th>\n",
       "      <th></th>\n",
       "      <th></th>\n",
       "    </tr>\n",
       "  </thead>\n",
       "  <tbody>\n",
       "    <tr>\n",
       "      <th>2019-05-30</th>\n",
       "      <td>121.690002</td>\n",
       "      <td>120.800003</td>\n",
       "      <td>120.959999</td>\n",
       "      <td>121.690002</td>\n",
       "      <td>7757000</td>\n",
       "    </tr>\n",
       "    <tr>\n",
       "      <th>2019-05-31</th>\n",
       "      <td>123.400002</td>\n",
       "      <td>122.320000</td>\n",
       "      <td>122.550003</td>\n",
       "      <td>123.330002</td>\n",
       "      <td>15367000</td>\n",
       "    </tr>\n",
       "    <tr>\n",
       "      <th>2019-06-03</th>\n",
       "      <td>125.339996</td>\n",
       "      <td>123.900002</td>\n",
       "      <td>124.089996</td>\n",
       "      <td>125.110001</td>\n",
       "      <td>14173600</td>\n",
       "    </tr>\n",
       "    <tr>\n",
       "      <th>2019-06-04</th>\n",
       "      <td>125.419998</td>\n",
       "      <td>124.610001</td>\n",
       "      <td>124.879997</td>\n",
       "      <td>125.150002</td>\n",
       "      <td>7997100</td>\n",
       "    </tr>\n",
       "    <tr>\n",
       "      <th>2019-06-05</th>\n",
       "      <td>126.370003</td>\n",
       "      <td>125.239998</td>\n",
       "      <td>126.180000</td>\n",
       "      <td>125.470001</td>\n",
       "      <td>7637900</td>\n",
       "    </tr>\n",
       "  </tbody>\n",
       "</table>\n",
       "</div>"
      ],
      "text/plain": [
       "                  High         Low        Open       Close    Volume\n",
       "Date                                                                \n",
       "2019-05-30  121.690002  120.800003  120.959999  121.690002   7757000\n",
       "2019-05-31  123.400002  122.320000  122.550003  123.330002  15367000\n",
       "2019-06-03  125.339996  123.900002  124.089996  125.110001  14173600\n",
       "2019-06-04  125.419998  124.610001  124.879997  125.150002   7997100\n",
       "2019-06-05  126.370003  125.239998  126.180000  125.470001   7637900"
      ]
     },
     "execution_count": 2,
     "metadata": {},
     "output_type": "execute_result"
    }
   ],
   "source": [
    "gld = pdr.get_data_yahoo('GLD','2019-05-31')\n",
    "gld.drop('Adj Close', axis=1, inplace=True)\n",
    "gld.head()"
   ]
  },
  {
   "cell_type": "markdown",
   "id": "e78ae5b6-d8d3-4c80-b492-4a983b3a78da",
   "metadata": {},
   "source": [
    "Calculate 9-day and 21-day moving average"
   ]
  },
  {
   "cell_type": "code",
   "execution_count": 4,
   "id": "251d2e9b-932f-4231-a536-7e382ee6b15d",
   "metadata": {},
   "outputs": [],
   "source": [
    "gld['9-day'] = gld['Close'].rolling(9).mean()\n",
    "gld['21-day'] = gld['Close'].rolling(21).mean()\n",
    "gld['Change'] = np.log(gld.Close / gld.Close.shift())"
   ]
  },
  {
   "cell_type": "code",
   "execution_count": 5,
   "id": "801b6014-e603-44e2-9ed1-bb1876aaf29b",
   "metadata": {},
   "outputs": [
    {
     "data": {
      "text/html": [
       "<div>\n",
       "<style scoped>\n",
       "    .dataframe tbody tr th:only-of-type {\n",
       "        vertical-align: middle;\n",
       "    }\n",
       "\n",
       "    .dataframe tbody tr th {\n",
       "        vertical-align: top;\n",
       "    }\n",
       "\n",
       "    .dataframe thead th {\n",
       "        text-align: right;\n",
       "    }\n",
       "</style>\n",
       "<table border=\"1\" class=\"dataframe\">\n",
       "  <thead>\n",
       "    <tr style=\"text-align: right;\">\n",
       "      <th></th>\n",
       "      <th>High</th>\n",
       "      <th>Low</th>\n",
       "      <th>Open</th>\n",
       "      <th>Close</th>\n",
       "      <th>Volume</th>\n",
       "      <th>9-day</th>\n",
       "      <th>21-day</th>\n",
       "      <th>Change</th>\n",
       "    </tr>\n",
       "    <tr>\n",
       "      <th>Date</th>\n",
       "      <th></th>\n",
       "      <th></th>\n",
       "      <th></th>\n",
       "      <th></th>\n",
       "      <th></th>\n",
       "      <th></th>\n",
       "      <th></th>\n",
       "      <th></th>\n",
       "    </tr>\n",
       "  </thead>\n",
       "  <tbody>\n",
       "    <tr>\n",
       "      <th>2021-05-25</th>\n",
       "      <td>177.949997</td>\n",
       "      <td>176.039993</td>\n",
       "      <td>176.149994</td>\n",
       "      <td>177.949997</td>\n",
       "      <td>8986900</td>\n",
       "      <td>175.002223</td>\n",
       "      <td>171.343810</td>\n",
       "      <td>0.009032</td>\n",
       "    </tr>\n",
       "    <tr>\n",
       "      <th>2021-05-26</th>\n",
       "      <td>178.610001</td>\n",
       "      <td>177.039993</td>\n",
       "      <td>178.369995</td>\n",
       "      <td>177.639999</td>\n",
       "      <td>8495400</td>\n",
       "      <td>175.725555</td>\n",
       "      <td>171.878095</td>\n",
       "      <td>-0.001744</td>\n",
       "    </tr>\n",
       "    <tr>\n",
       "      <th>2021-05-27</th>\n",
       "      <td>177.820007</td>\n",
       "      <td>176.809998</td>\n",
       "      <td>177.389999</td>\n",
       "      <td>177.710007</td>\n",
       "      <td>7993000</td>\n",
       "      <td>176.283334</td>\n",
       "      <td>172.392381</td>\n",
       "      <td>0.000394</td>\n",
       "    </tr>\n",
       "    <tr>\n",
       "      <th>2021-05-28</th>\n",
       "      <td>178.429993</td>\n",
       "      <td>177.240005</td>\n",
       "      <td>177.460007</td>\n",
       "      <td>178.380005</td>\n",
       "      <td>9967000</td>\n",
       "      <td>176.692223</td>\n",
       "      <td>172.971429</td>\n",
       "      <td>0.003763</td>\n",
       "    </tr>\n",
       "    <tr>\n",
       "      <th>2021-06-01</th>\n",
       "      <td>178.850006</td>\n",
       "      <td>177.190002</td>\n",
       "      <td>178.759995</td>\n",
       "      <td>177.899994</td>\n",
       "      <td>9140700</td>\n",
       "      <td>177.010001</td>\n",
       "      <td>173.554286</td>\n",
       "      <td>-0.002695</td>\n",
       "    </tr>\n",
       "  </tbody>\n",
       "</table>\n",
       "</div>"
      ],
      "text/plain": [
       "                  High         Low        Open       Close   Volume  \\\n",
       "Date                                                                  \n",
       "2021-05-25  177.949997  176.039993  176.149994  177.949997  8986900   \n",
       "2021-05-26  178.610001  177.039993  178.369995  177.639999  8495400   \n",
       "2021-05-27  177.820007  176.809998  177.389999  177.710007  7993000   \n",
       "2021-05-28  178.429993  177.240005  177.460007  178.380005  9967000   \n",
       "2021-06-01  178.850006  177.190002  178.759995  177.899994  9140700   \n",
       "\n",
       "                 9-day      21-day    Change  \n",
       "Date                                          \n",
       "2021-05-25  175.002223  171.343810  0.009032  \n",
       "2021-05-26  175.725555  171.878095 -0.001744  \n",
       "2021-05-27  176.283334  172.392381  0.000394  \n",
       "2021-05-28  176.692223  172.971429  0.003763  \n",
       "2021-06-01  177.010001  173.554286 -0.002695  "
      ]
     },
     "execution_count": 5,
     "metadata": {},
     "output_type": "execute_result"
    }
   ],
   "source": [
    "gld.tail()"
   ]
  },
  {
   "cell_type": "code",
   "execution_count": 6,
   "id": "2edd4219-51d9-446a-9f12-3883283392b9",
   "metadata": {},
   "outputs": [
    {
     "data": {
      "image/png": "[encoded data removed]",
      "text/plain": [
       "<Figure size 576x432 with 1 Axes>"
      ]
     },
     "metadata": {},
     "output_type": "display_data"
    }
   ],
   "source": [
    "with plt.style.context('ggplot'):\n",
    "    plt.figure(figsize=(8,6))\n",
    "#     Look at the last 120 days\n",
    "    plt.plot(gld.Close[-120:],label='Daily Close')\n",
    "    plt.plot(gld['9-day'][-120:],label='9-Day Moving Average')\n",
    "    plt.plot(gld['21-day'][-120:],label='21-Day Moving Average')\n",
    "    plt.legend(loc=1)"
   ]
  },
  {
   "cell_type": "code",
   "execution_count": 8,
   "id": "b451e18a-e82e-4815-9282-4efe9dd9877c",
   "metadata": {},
   "outputs": [],
   "source": [
    "# When the faster moving average is moving above the slower one, indicates time to buy\n",
    "gld['position'] = np.where(gld['9-day'] > gld['21-day'], 1,0)\n",
    "# When the faster moving average is moving below the slower one, indicates time to sell\n",
    "gld['position'] = np.where(gld['9-day'] < gld['21-day'],-1,gld['position'])"
   ]
  },
  {
   "cell_type": "code",
   "execution_count": 11,
   "id": "b2e6a957-2b40-4cd4-ab3b-58fa5481fe53",
   "metadata": {},
   "outputs": [
    {
     "data": {
      "text/html": [
       "<div>\n",
       "<style scoped>\n",
       "    .dataframe tbody tr th:only-of-type {\n",
       "        vertical-align: middle;\n",
       "    }\n",
       "\n",
       "    .dataframe tbody tr th {\n",
       "        vertical-align: top;\n",
       "    }\n",
       "\n",
       "    .dataframe thead th {\n",
       "        text-align: right;\n",
       "    }\n",
       "</style>\n",
       "<table border=\"1\" class=\"dataframe\">\n",
       "  <thead>\n",
       "    <tr style=\"text-align: right;\">\n",
       "      <th></th>\n",
       "      <th>High</th>\n",
       "      <th>Low</th>\n",
       "      <th>Open</th>\n",
       "      <th>Close</th>\n",
       "      <th>Volume</th>\n",
       "      <th>9-day</th>\n",
       "      <th>21-day</th>\n",
       "      <th>Change</th>\n",
       "      <th>position</th>\n",
       "    </tr>\n",
       "    <tr>\n",
       "      <th>Date</th>\n",
       "      <th></th>\n",
       "      <th></th>\n",
       "      <th></th>\n",
       "      <th></th>\n",
       "      <th></th>\n",
       "      <th></th>\n",
       "      <th></th>\n",
       "      <th></th>\n",
       "      <th></th>\n",
       "    </tr>\n",
       "  </thead>\n",
       "  <tbody>\n",
       "    <tr>\n",
       "      <th>2021-05-25</th>\n",
       "      <td>177.949997</td>\n",
       "      <td>176.039993</td>\n",
       "      <td>176.149994</td>\n",
       "      <td>177.949997</td>\n",
       "      <td>8986900</td>\n",
       "      <td>175.002223</td>\n",
       "      <td>171.343810</td>\n",
       "      <td>0.009032</td>\n",
       "      <td>1</td>\n",
       "    </tr>\n",
       "    <tr>\n",
       "      <th>2021-05-26</th>\n",
       "      <td>178.610001</td>\n",
       "      <td>177.039993</td>\n",
       "      <td>178.369995</td>\n",
       "      <td>177.639999</td>\n",
       "      <td>8495400</td>\n",
       "      <td>175.725555</td>\n",
       "      <td>171.878095</td>\n",
       "      <td>-0.001744</td>\n",
       "      <td>1</td>\n",
       "    </tr>\n",
       "    <tr>\n",
       "      <th>2021-05-27</th>\n",
       "      <td>177.820007</td>\n",
       "      <td>176.809998</td>\n",
       "      <td>177.389999</td>\n",
       "      <td>177.710007</td>\n",
       "      <td>7993000</td>\n",
       "      <td>176.283334</td>\n",
       "      <td>172.392381</td>\n",
       "      <td>0.000394</td>\n",
       "      <td>1</td>\n",
       "    </tr>\n",
       "    <tr>\n",
       "      <th>2021-05-28</th>\n",
       "      <td>178.429993</td>\n",
       "      <td>177.240005</td>\n",
       "      <td>177.460007</td>\n",
       "      <td>178.380005</td>\n",
       "      <td>9967000</td>\n",
       "      <td>176.692223</td>\n",
       "      <td>172.971429</td>\n",
       "      <td>0.003763</td>\n",
       "      <td>1</td>\n",
       "    </tr>\n",
       "    <tr>\n",
       "      <th>2021-06-01</th>\n",
       "      <td>178.850006</td>\n",
       "      <td>177.190002</td>\n",
       "      <td>178.759995</td>\n",
       "      <td>177.899994</td>\n",
       "      <td>9140700</td>\n",
       "      <td>177.010001</td>\n",
       "      <td>173.554286</td>\n",
       "      <td>-0.002695</td>\n",
       "      <td>1</td>\n",
       "    </tr>\n",
       "  </tbody>\n",
       "</table>\n",
       "</div>"
      ],
      "text/plain": [
       "                  High         Low        Open       Close   Volume  \\\n",
       "Date                                                                  \n",
       "2021-05-25  177.949997  176.039993  176.149994  177.949997  8986900   \n",
       "2021-05-26  178.610001  177.039993  178.369995  177.639999  8495400   \n",
       "2021-05-27  177.820007  176.809998  177.389999  177.710007  7993000   \n",
       "2021-05-28  178.429993  177.240005  177.460007  178.380005  9967000   \n",
       "2021-06-01  178.850006  177.190002  178.759995  177.899994  9140700   \n",
       "\n",
       "                 9-day      21-day    Change  position  \n",
       "Date                                                    \n",
       "2021-05-25  175.002223  171.343810  0.009032         1  \n",
       "2021-05-26  175.725555  171.878095 -0.001744         1  \n",
       "2021-05-27  176.283334  172.392381  0.000394         1  \n",
       "2021-05-28  176.692223  172.971429  0.003763         1  \n",
       "2021-06-01  177.010001  173.554286 -0.002695         1  "
      ]
     },
     "execution_count": 11,
     "metadata": {},
     "output_type": "execute_result"
    }
   ],
   "source": [
    "gld.tail()"
   ]
  },
  {
   "cell_type": "code",
   "execution_count": 12,
   "id": "e124ed1c-558d-4a04-8ebd-94139e1200bc",
   "metadata": {},
   "outputs": [],
   "source": [
    "# Whether we are making money with this system\n",
    "gld['system'] = gld['position'] * gld['Change']"
   ]
  },
  {
   "cell_type": "code",
   "execution_count": 13,
   "id": "aa6dac8d-54c0-47fd-bac0-f8da0aecacae",
   "metadata": {},
   "outputs": [
    {
     "data": {
      "text/plain": [
       "<AxesSubplot:xlabel='Date'>"
      ]
     },
     "execution_count": 13,
     "metadata": {},
     "output_type": "execute_result"
    },
    {
     "data": {
      "image/png": "[encoded data removed]",
      "text/plain": [
       "<Figure size 432x288 with 1 Axes>"
      ]
     },
     "metadata": {
      "needs_background": "light"
     },
     "output_type": "display_data"
    }
   ],
   "source": [
    "# Work out cumulative sum\n",
    "gld[['Change','system']].cumsum().plot()"
   ]
  },
  {
   "cell_type": "code",
   "execution_count": null,
   "id": "832b3da4-66de-4f79-a799-7e5853fcea35",
   "metadata": {},
   "outputs": [],
   "source": []
  }
 ],
 "metadata": {
  "kernelspec": {
   "display_name": "Python 3",
   "language": "python",
   "name": "python3"
  },
  "language_info": {
   "codemirror_mode": {
    "name": "ipython",
    "version": 3
   },
   "file_extension": ".py",
   "mimetype": "text/x-python",
   "name": "python",
   "nbconvert_exporter": "python",
   "pygments_lexer": "ipython3",
   "version": "3.6.8"
  }
 },
 "nbformat": 4,
 "nbformat_minor": 5
}
